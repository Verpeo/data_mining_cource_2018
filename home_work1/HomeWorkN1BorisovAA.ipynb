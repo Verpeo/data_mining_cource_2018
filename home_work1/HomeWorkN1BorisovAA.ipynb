{
 "cells": [
  {
   "cell_type": "markdown",
   "metadata": {},
   "source": [
    "1. (2 балла)\n",
    "На вход вам приходит вещественное число, обозначающее время, которое необходимо потратить на задачу (создайте для этого переменную duration). \n",
    "Выведите, сколько времени уйдет, чтобы выполнить 3 такие задачи. \n",
    "Ввод: вещественное число, которое обозначает количество часов (нецелое, например 1.5 -значит 1 час и 0.5 часа, то есть 30 минут). Число часов точно меньше 24. \n",
    "Вывод: hh:mm (часы:минуты)."
   ]
  },
  {
   "cell_type": "code",
   "execution_count": 31,
   "metadata": {},
   "outputs": [
    {
     "name": "stdout",
     "output_type": "stream",
     "text": [
      "4:43\n"
     ]
    }
   ],
   "source": [
    "time = 1.57\n",
    "print('{0:.0f}:{1:.0f}'.format(*divmod(time*3*60,60)))"
   ]
  },
  {
   "cell_type": "markdown",
   "metadata": {},
   "source": [
    "2. (2 балла)\n",
    "Для двух строк l1 и l2, а так же числа n вывести строчку l3, состоящую из конкатенации l1 и l2, повторенной n раз.\n",
    "Например, для l1='hello', l2='world', n=2, l3 будет равно 'helloworldhelloworld'"
   ]
  },
  {
   "cell_type": "code",
   "execution_count": 14,
   "metadata": {},
   "outputs": [
    {
     "name": "stdout",
     "output_type": "stream",
     "text": [
      "helloworldhelloworldhelloworld\n"
     ]
    }
   ],
   "source": [
    "l1,l2 = 'hello','world'\n",
    "print((str(l1)+str(l2))*3)"
   ]
  },
  {
   "cell_type": "markdown",
   "metadata": {},
   "source": [
    "3. (2 балла)\n",
    "Электронные часы показывают время в формате hh:mm:ss, то есть сначала записывается обязательно двузначное количество часов, потом обязательно двузначное количество минут, затем обязательно двузначное количество секунд.\n",
    "\n",
    "С начала суток прошло N секунд. Выведите, что покажут часы. В N точно меньше 24 часов."
   ]
  },
  {
   "cell_type": "code",
   "execution_count": 23,
   "metadata": {},
   "outputs": [
    {
     "name": "stdout",
     "output_type": "stream",
     "text": [
      "4:20:32\n"
     ]
    }
   ],
   "source": [
    "N = 15632\n",
    "print('{0:.0f}:{1:.0f}:{2:.0f}'.format(*divmod((N//60),60),N%60))"
   ]
  },
  {
   "cell_type": "markdown",
   "metadata": {},
   "source": [
    "4. (2 балла)\n",
    "На вход даются числа a, b, натуральные, a < b. Задача вывести числа Фибоначчи с номерами от a до b. Число Фибоначчи"
   ]
  },
  {
   "cell_type": "code",
   "execution_count": 29,
   "metadata": {},
   "outputs": [
    {
     "name": "stdout",
     "output_type": "stream",
     "text": [
      "[0, 1, 1, 2, 3, 5, 8, 13]\n",
      "[5, 8, 13]\n"
     ]
    }
   ],
   "source": [
    "def fib(N):\n",
    "    f = [0, 1]\n",
    "    for i in range(2, N + 1):\n",
    "        f.append(f[i-1] + f[i-2])\n",
    "    return f\n",
    "\n",
    "a,b = 5,7\n",
    "\n",
    "#rint(fib(b))\n",
    "print(fib(b)[a:])"
   ]
  }
 ],
 "metadata": {
  "kernelspec": {
   "display_name": "Python 3",
   "language": "python",
   "name": "python3"
  },
  "language_info": {
   "codemirror_mode": {
    "name": "ipython",
    "version": 3
   },
   "file_extension": ".py",
   "mimetype": "text/x-python",
   "name": "python",
   "nbconvert_exporter": "python",
   "pygments_lexer": "ipython3",
   "version": "3.6.5"
  }
 },
 "nbformat": 4,
 "nbformat_minor": 2
}
