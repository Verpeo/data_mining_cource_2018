{
 "cells": [
  {
   "cell_type": "code",
   "execution_count": 13,
   "metadata": {},
   "outputs": [
    {
     "name": "stdout",
     "output_type": "stream",
     "text": [
      "Вот оно!\n"
     ]
    }
   ],
   "source": [
    "d = {'index1': [42, 200, {'index2': ['уже не просто', {'сложно!': [101, 15, ['Вот оно!']]}]}]}\n",
    "\n",
    "print(d['index1'][2]['index2'][1]['сложно!'][2][0])\n"
   ]
  },
  {
   "cell_type": "code",
   "execution_count": 16,
   "metadata": {},
   "outputs": [
    {
     "name": "stdout",
     "output_type": "stream",
     "text": [
      "1\n",
      "Нечетное\n",
      "2\n",
      "Четное\n",
      "2\n",
      "Четное\n",
      "вщту\n",
      "Wrong Input!\n",
      "done\n"
     ]
    }
   ],
   "source": [
    "MaxTry = 1000\n",
    "TryCount = 0\n",
    "\n",
    "while True:\n",
    "    TryCount += 1\n",
    "    input_str = input()\n",
    "    if input_str.upper() == 'DONE':\n",
    "        break\n",
    "    try:\n",
    "        new_num = int(input_str)\n",
    "        if new_num%2 == 0:\n",
    "            print('Четное')\n",
    "        else:\n",
    "            print('Нечетное')\n",
    "    except :\n",
    "        print(\"Wrong Input!\")\n",
    "    if TryCount >= MaxTry:\n",
    "        print('Enough now!!')\n",
    "        break"
   ]
  },
  {
   "cell_type": "code",
   "execution_count": 20,
   "metadata": {},
   "outputs": [
    {
     "name": "stdout",
     "output_type": "stream",
     "text": [
      "а is 1 letter of Russia Alphabet\n",
      "н is 15 letter of Russia Alphabet\n",
      "т is 20 letter of Russia Alphabet\n",
      "о is 16 letter of Russia Alphabet\n",
      "н is 15 letter of Russia Alphabet\n"
     ]
    }
   ],
   "source": [
    "alph_str = '†абвгдеёжзийклмнопрстуфхцчшщъыьэюя'\n",
    "my_name = 'Антон'\n",
    "for letter in my_name.lower():\n",
    "    print('{} is {} letter of Russia Alphabet'.format(letter,alph_str.index(letter)))\n",
    "    \n"
   ]
  },
  {
   "cell_type": "code",
   "execution_count": null,
   "metadata": {},
   "outputs": [],
   "source": []
  },
  {
   "cell_type": "markdown",
   "metadata": {},
   "source": [
    "Блиц 1\n",
    "На вход подается строка с каким-то количеством цифр на конце. Вам необходимо вывести только буквенную часть строки, используя встроенные строковые методы и циклы.\n",
    "\n",
    "На вход подается строка и подстрока. Проверить, что подстрока присутствует в строке и вывести индекс первого вхождения.\n",
    "\n",
    "На вход подается строка и подстрока. Найти все вхождения подстроки в строку и вывести количество таких вхождений."
   ]
  },
  {
   "cell_type": "code",
   "execution_count": 9,
   "metadata": {},
   "outputs": [
    {
     "name": "stdout",
     "output_type": "stream",
     "text": [
      "1†a11 1 11s\n"
     ]
    }
   ],
   "source": [
    "str_id = '1†a11 1 11s'\n",
    "\n",
    "d = list()\n",
    "flag = 0\n",
    "l = len(str_id)\n",
    "for a in range(l):\n",
    "    if not str_id[-a-1].isdigit()  :\n",
    "        flag = l-a\n",
    "        break\n",
    "\n",
    "\n",
    "print(str_id[:flag])"
   ]
  },
  {
   "cell_type": "code",
   "execution_count": 22,
   "metadata": {},
   "outputs": [
    {
     "name": "stdout",
     "output_type": "stream",
     "text": [
      "3\n"
     ]
    }
   ],
   "source": [
    "str = 'skldfgsdlfhglshjf'\n",
    "substr = 'dfg'\n",
    "print(str.find(substr))"
   ]
  },
  {
   "cell_type": "code",
   "execution_count": 15,
   "metadata": {},
   "outputs": [
    {
     "name": "stdout",
     "output_type": "stream",
     "text": [
      "[0, 3]\n"
     ]
    }
   ],
   "source": [
    "str_id = 'qweqweqwe'\n",
    "substr = 'qweqwe'\n",
    "s = list()\n",
    "i = 0\n",
    "\n",
    "while i < len(str_id):\n",
    "    ind = str_id.find(substr,i)\n",
    "    if ind > -1:\n",
    "        s.append(str_id.find(substr,i))\n",
    "        i = ind+1\n",
    "    else:\n",
    "        #i+= 1\n",
    "        break\n",
    "print(s)   "
   ]
  },
  {
   "cell_type": "code",
   "execution_count": 66,
   "metadata": {},
   "outputs": [],
   "source": [
    "#1\n",
    "with  open('1.txt','w', encoding='utf-8') as tmp_file:\n",
    "    for i in range(100):\n",
    "        #tmp_file.write('{}\\n'.format(str(i+1)))\n",
    "        print(i+1, file = tmp_file)"
   ]
  },
  {
   "cell_type": "code",
   "execution_count": 71,
   "metadata": {},
   "outputs": [],
   "source": [
    "#2\n",
    "poem = \"\"\"And the Raven, never flitting, still is sitting, still is sitting\n",
    "On the pallid bust of Pallas just above my chamber door;\n",
    "And his eyes have all the seeming of a demon’s that is dreaming,\n",
    "And the lamp-light o’er him streaming throws his shadow on the floor;\n",
    "And my soul from out that shadow that lies floating on the floor\n",
    "Shall be lifted—nevermore!\"\"\"\n",
    "with  open('raven1.txt','w', encoding='utf-8') as tmp_file:\n",
    "    print(poem,file = tmp_file)"
   ]
  },
  {
   "cell_type": "code",
   "execution_count": 72,
   "metadata": {},
   "outputs": [],
   "source": [
    "with open('raven2.txt','w', encoding='utf-8') as raven2,open('raven1.txt','r', encoding='utf-8') as raven1:\n",
    "    for index,strings in enumerate(raven1.read().split('\\n')):\n",
    "        if (index + 1  )%2 ==0:\n",
    "            raven2.write('{}\\n'.format(strings))  "
   ]
  }
 ],
 "metadata": {
  "kernelspec": {
   "display_name": "Python 3",
   "language": "python",
   "name": "python3"
  },
  "language_info": {
   "codemirror_mode": {
    "name": "ipython",
    "version": 3
   },
   "file_extension": ".py",
   "mimetype": "text/x-python",
   "name": "python",
   "nbconvert_exporter": "python",
   "pygments_lexer": "ipython3",
   "version": "3.6.5"
  }
 },
 "nbformat": 4,
 "nbformat_minor": 2
}
