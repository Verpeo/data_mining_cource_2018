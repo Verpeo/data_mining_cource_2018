{
 "cells": [
  {
   "cell_type": "code",
   "execution_count": 43,
   "metadata": {},
   "outputs": [
    {
     "name": "stdout",
     "output_type": "stream",
     "text": [
      "asda dsda first two words has same first letter: False\n"
     ]
    }
   ],
   "source": [
    "def have_same_first_letters(two_words_str):\n",
    "    word_list = two_words_str.split(' ')\n",
    "    return  word_list[0][0].lower() == word_list[1][0].lower()\n",
    "    \n",
    "\n",
    "test_str= 'asda dsda'\n",
    "print('{} first two words has same first letter: {}'.format(test_str,have_same_first_letters(test_str)))"
   ]
  },
  {
   "cell_type": "code",
   "execution_count": 44,
   "metadata": {},
   "outputs": [
    {
     "name": "stdout",
     "output_type": "stream",
     "text": [
      "True\n"
     ]
    }
   ],
   "source": [
    "def is_sum_twenty(a,b):\n",
    "    return a == 20 or b == 20 or a + b == 20\n",
    "\n",
    "print(is_sum_twenty(1,20))"
   ]
  },
  {
   "cell_type": "code",
   "execution_count": 76,
   "metadata": {},
   "outputs": [
    {
     "name": "stdout",
     "output_type": "stream",
     "text": [
      "gh asdf\n"
     ]
    }
   ],
   "source": [
    "def revert_the_string(any_string):\n",
    "    #return ''.join(reversed(any_string))\n",
    "    return ' '.join(reversed(any_string.split()))\n",
    "    \n",
    "print(revert_the_string('asdf gh'))  "
   ]
  },
  {
   "cell_type": "code",
   "execution_count": 47,
   "metadata": {},
   "outputs": [
    {
     "name": "stdout",
     "output_type": "stream",
     "text": [
      "it has three sevens: False\n"
     ]
    }
   ],
   "source": [
    "def is_joycasino_win(num_list):\n",
    "    \n",
    "    sevens_count = 0\n",
    "    for numb in num_list:\n",
    "        if numb == 7:\n",
    "            sevens_count +=1 \n",
    "        else:\n",
    "            sevens_count = 0\n",
    "\n",
    "        if sevens_count == 3:\n",
    "            return True    \n",
    "    return False  \n",
    "\n",
    "\n",
    "\n",
    "test_list = [1,2,34,7,7,4,7,5]\n",
    "\n",
    "print('it has three sevens: {}'.format(is_joycasino_win(test_list)))"
   ]
  },
  {
   "cell_type": "code",
   "execution_count": 52,
   "metadata": {},
   "outputs": [
    {
     "name": "stdout",
     "output_type": "stream",
     "text": [
      "ППППППППППППППППППППППППППППППППППППППППППППППППППррррррррррррррррррррррррррррррррррррррррррррррррррииииииииииииииииииииииииииииииииииииииииииииииииииввввввввввввввввввввввввввввввввввввввввввввввввввеееееееееееееееееееееееееееееееееееееееееееееееееетттттттттттттттттттттттттттттттттттттттттттттттттт\n"
     ]
    }
   ],
   "source": [
    "def multiple_letters(string,count=1):\n",
    "    return ''.join([a*count for a in string])\n",
    "\n",
    "    \n",
    "some_str = 'Привет'\n",
    "\n",
    "print(multiple_letters(some_str ,50))"
   ]
  },
  {
   "cell_type": "code",
   "execution_count": 78,
   "metadata": {},
   "outputs": [
    {
     "name": "stdout",
     "output_type": "stream",
     "text": [
      "False\n"
     ]
    }
   ],
   "source": [
    "def has_sublist(main_list,sublist):\n",
    "    return ''.join(map(str, main_list)).find(''.join(map(str, sublist))) > -1\n",
    "\n",
    "print(has_sublist([7, 1, 4, 2, 1, 3, 7],[2,1,3,2]))    "
   ]
  },
  {
   "cell_type": "code",
   "execution_count": 74,
   "metadata": {},
   "outputs": [
    {
     "name": "stdout",
     "output_type": "stream",
     "text": [
      "there is 14 prime nums in list [3, 5, 7, 11, 13, 17, 19, 23, 29, 31, 37, 41, 43, 47]\n"
     ]
    }
   ],
   "source": [
    "def is_prime(num):\n",
    "    if num % 2 == 0 and num > 2: \n",
    "        return False\n",
    "    for i in range(3, int(num**0.5) + 1, 2):\n",
    "        if num % i == 0:\n",
    "            return False\n",
    "    return True\n",
    "\n",
    "def get_all_prime_list(num):\n",
    "    if num < 3:\n",
    "        return -1\n",
    "    out_list = []\n",
    "    for i in range(3,num+1):\n",
    "        if is_prime(i):\n",
    "             out_list.append(i)   \n",
    "    return  out_list  \n",
    "\n",
    "prime_list = get_all_prime_list(50)\n",
    "if prime_list != -1:\n",
    "    print('there is {1} prime nums in list {0}'.format(prime_list,len(prime_list)))"
   ]
  },
  {
   "cell_type": "code",
   "execution_count": 80,
   "metadata": {},
   "outputs": [
    {
     "name": "stdout",
     "output_type": "stream",
     "text": [
      "[0, 5, 10, 15, 20, 25, 30, 35, 40, 45, 50, 55, 60, 65, 70, 75, 80, 85, 90, 95, 100]\n"
     ]
    }
   ],
   "source": [
    "t_list = [a for a in range(101) if a%5 == 0]\n",
    "print(t_list)"
   ]
  },
  {
   "cell_type": "code",
   "execution_count": null,
   "metadata": {},
   "outputs": [],
   "source": []
  },
  {
   "cell_type": "code",
   "execution_count": 135,
   "metadata": {},
   "outputs": [
    {
     "name": "stdout",
     "output_type": "stream",
     "text": [
      "Text has 63 in the first position of words and 137 in the second one!\n"
     ]
    }
   ],
   "source": [
    "def calc_first_second_letter_stat(file_pointer,letter):\n",
    "    letter = letter.lower()\n",
    "    file_words = file_pointer.read().split()\n",
    "    t_list = [(word[0].lower() == letter, \n",
    "            len(word) > 1 and word[1].lower() == letter ) \n",
    "            for word in file_words]\n",
    "    return sum(1 for a in t_list if a[0] ),sum(1 for a in t_list if a[1])\n",
    "    \n",
    "        \n",
    "with  open('raven.txt','r', encoding='utf-8') as raven_file:\n",
    "    print('Text has {0[0]} in the first position of words and {0[1]} in the second one!'.\\\n",
    "          format(calc_first_second_letter_stat(raven_file,'o')))\n",
    "\n",
    "    \n",
    "    "
   ]
  },
  {
   "cell_type": "code",
   "execution_count": null,
   "metadata": {},
   "outputs": [],
   "source": []
  }
 ],
 "metadata": {
  "kernelspec": {
   "display_name": "Python 3",
   "language": "python",
   "name": "python3"
  },
  "language_info": {
   "codemirror_mode": {
    "name": "ipython",
    "version": 3
   },
   "file_extension": ".py",
   "mimetype": "text/x-python",
   "name": "python",
   "nbconvert_exporter": "python",
   "pygments_lexer": "ipython3",
   "version": "3.6.5"
  }
 },
 "nbformat": 4,
 "nbformat_minor": 2
}
